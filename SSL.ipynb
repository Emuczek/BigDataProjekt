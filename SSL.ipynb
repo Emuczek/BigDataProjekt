{
 "cells": [
  {
   "cell_type": "code",
   "execution_count": null,
   "metadata": {
    "collapsed": true
   },
   "outputs": [],
   "source": [
    "import tensorflow as tf\n",
    "from keras.models import Model\n",
    "from keras.layers import Input, Dense\n",
    "from keras.preprocessing.image import ImageDataGenerator\n",
    "from sklearn.cluster import KMeans"
   ]
  },
  {
   "cell_type": "code",
   "execution_count": null,
   "outputs": [],
   "source": [
    "# Set up the image data generator with desired data augmentation settings\n",
    "image_data_generator = ImageDataGenerator(\n",
    "    rotation_range=30,\n",
    "    width_shift_range=0.2,\n",
    "    height_shift_range=0.2,\n",
    "    shear_range=0.2,\n",
    "    zoom_range=0.2,\n",
    "    horizontal_flip=True,\n",
    "    vertical_flip=True,\n",
    "    fill_mode='nearest'\n",
    ")"
   ],
   "metadata": {
    "collapsed": false
   }
  },
  {
   "cell_type": "code",
   "execution_count": null,
   "outputs": [],
   "source": [
    "# Set the path to your dataset directory\n",
    "data_directory = \"C:/Users/Jakub/PycharmProjects/BigDataProjekt/data_classes\"\n",
    "\n",
    "# Set the batch size for training\n",
    "batch_size = 32\n",
    "\n",
    "# Set the image size\n",
    "image_size = (224, 224)\n",
    "\n",
    "# Create the generator for reading and augmenting the images\n",
    "data_generator = image_data_generator.flow_from_directory(\n",
    "    data_directory,\n",
    "    target_size=image_size,\n",
    "    batch_size=batch_size,\n",
    "    class_mode=None,  # Important: Set class_mode to None for unlabeled data\n",
    "    shuffle=True\n",
    ")"
   ],
   "metadata": {
    "collapsed": false
   }
  },
  {
   "cell_type": "code",
   "execution_count": null,
   "outputs": [],
   "source": [
    "# Define the self-supervised learning model\n",
    "input_shape = (image_size[0], image_size[1], 3)  # Assumes 3-channel RGB images\n",
    "inputs = Input(shape=input_shape)\n",
    "# Add your model architecture layers here\n",
    "\n",
    "# Add a final dense layer for the self-supervised task\n",
    "self_supervised_output = Dense(128, activation='relu')(inputs)\n",
    "\n",
    "# Create the self-supervised learning model\n",
    "model = Model(inputs=inputs, outputs=self_supervised_output)\n",
    "\n",
    "# Compile and train the model\n",
    "model.compile(optimizer='adam', loss='mse')\n",
    "model.fit(data_generator, epochs=10)"
   ],
   "metadata": {
    "collapsed": false
   }
  },
  {
   "cell_type": "code",
   "execution_count": null,
   "outputs": [],
   "source": [
    "# Remove the final dense layer from the trained model\n",
    "feature_extractor = Model(inputs=model.input, outputs=model.layers[-2].output)\n",
    "\n",
    "# Extract features from your unlabeled dataset\n",
    "unlabeled_data_generator = image_data_generator.flow_from_directory(\n",
    "    data_directory,\n",
    "    target_size=image_size,\n",
    "    batch_size=batch_size,\n",
    "    class_mode=None,\n",
    "    shuffle=False\n",
    ")\n",
    "\n",
    "features = feature_extractor.predict(unlabeled_data_generator)"
   ],
   "metadata": {
    "collapsed": false
   }
  },
  {
   "cell_type": "code",
   "execution_count": null,
   "outputs": [],
   "source": [
    "# Set the number of clusters\n",
    "num_clusters = 3\n",
    "\n",
    "# Perform K-means clustering\n",
    "kmeans = KMeans(n_clusters=num_clusters)\n",
    "cluster_labels = kmeans.fit_predict(features)"
   ],
   "metadata": {
    "collapsed": false
   }
  },
  {
   "cell_type": "code",
   "execution_count": null,
   "outputs": [],
   "source": [
    "# Perform analysis on the clustering results\n",
    "# For example, you can print the cluster labels for each data point\n",
    "for i in range(len(cluster_labels)):\n",
    "    print(f\"Data point {i+1}: Cluster {cluster_labels[i]}\")"
   ],
   "metadata": {
    "collapsed": false
   }
  }
 ],
 "metadata": {
  "kernelspec": {
   "display_name": "Python 3",
   "language": "python",
   "name": "python3"
  },
  "language_info": {
   "codemirror_mode": {
    "name": "ipython",
    "version": 2
   },
   "file_extension": ".py",
   "mimetype": "text/x-python",
   "name": "python",
   "nbconvert_exporter": "python",
   "pygments_lexer": "ipython2",
   "version": "2.7.6"
  }
 },
 "nbformat": 4,
 "nbformat_minor": 0
}
