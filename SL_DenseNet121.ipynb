{
 "cells": [
  {
   "cell_type": "markdown",
   "source": [
    "# Imports"
   ],
   "metadata": {
    "collapsed": false
   }
  },
  {
   "cell_type": "code",
   "execution_count": null,
   "outputs": [],
   "source": [
    "import tensorflow as tf\n",
    "from keras import Model\n",
    "import matplotlib.pyplot as plt\n",
    "import cv2\n",
    "from keras.applications import DenseNet121\n",
    "from keras.layers import *\n",
    "from keras.callbacks import *\n",
    "import numpy as np\n",
    "from sklearn.metrics import confusion_matrix\n",
    "import seaborn as sns\n",
    "from keras.preprocessing.image import ImageDataGenerator\n",
    "from keras.callbacks import ModelCheckpoint"
   ],
   "metadata": {
    "collapsed": false
   }
  },
  {
   "cell_type": "markdown",
   "source": [
    "# GPU"
   ],
   "metadata": {
    "collapsed": false
   }
  },
  {
   "cell_type": "code",
   "execution_count": null,
   "outputs": [],
   "source": [
    "!nvidia-smi"
   ],
   "metadata": {
    "collapsed": false
   }
  },
  {
   "cell_type": "markdown",
   "source": [
    "# Creating variables containing frequently used directories, and printing out number of images in data set"
   ],
   "metadata": {
    "collapsed": false
   }
  },
  {
   "cell_type": "code",
   "execution_count": null,
   "outputs": [],
   "source": [
    "for dirpath, dirnames, filenames in os.walk(\"C:/Users/Jakub/PycharmProjects/BigDataProjekt/data_classes\"):\n",
    "    if len(filenames) != 0:\n",
    "        print(f\"{len(filenames)} images in '{dirpath}'.\")\n",
    "\n",
    "train_dir = \"C:/Users/Jakub/PycharmProjects/BigDataProjekt/data_classes/train/\"\n",
    "test_dir = \"C:/Users/Jakub/PycharmProjects/BigDataProjekt/data_classes/test/\"\n",
    "val_dir = \"C:/Users/Jakub/PycharmProjects/BigDataProjekt/data_classes/val/\"\n",
    "\n",
    "classes = []\n",
    "for name in os.listdir(train_dir):\n",
    "    classes.append(name)\n",
    "\n",
    "print(classes)\n",
    "\n",
    "img_array = cv2.imread(\"C:/Users/Jakub/PycharmProjects/BigDataProjekt/data_classes/train/Glioma/0.png\", 1)\n",
    "plt.imshow(np.real(img_array))\n",
    "plt.title(\"Glioma sample\")\n",
    "plt.show()"
   ],
   "metadata": {
    "collapsed": false
   }
  },
  {
   "cell_type": "markdown",
   "source": [
    "# Converting dataset"
   ],
   "metadata": {
    "collapsed": false
   }
  },
  {
   "cell_type": "code",
   "execution_count": null,
   "outputs": [],
   "source": [
    "# Declaring ImageDataGenerator\n",
    "\n",
    "train_datagen = ImageDataGenerator(rescale = 1/255,\n",
    "                                  width_shift_range=0.2,\n",
    "                                  height_shift_range=0.2,\n",
    "                                  rotation_range=5)\n",
    "test_datagen = ImageDataGenerator(rescale = 1/255)"
   ],
   "metadata": {
    "collapsed": false
   }
  },
  {
   "cell_type": "code",
   "execution_count": null,
   "outputs": [],
   "source": [
    "IMAGE_SHAPE = (256, 256)\n",
    "BATCH_SIZE = 32\n",
    "\n",
    "train_data = train_datagen.flow_from_directory(train_dir,\n",
    "                                               target_size=IMAGE_SHAPE,\n",
    "                                               batch_size=BATCH_SIZE,\n",
    "                                               class_mode=\"categorical\")\n",
    "\n",
    "test_data = train_datagen.flow_from_directory(test_dir,\n",
    "                                              target_size=IMAGE_SHAPE,\n",
    "                                              batch_size=BATCH_SIZE,\n",
    "                                              class_mode=\"categorical\")\n",
    "\n",
    "val_data = train_datagen.flow_from_directory(val_dir,\n",
    "                                              target_size=IMAGE_SHAPE,\n",
    "                                              batch_size=BATCH_SIZE,\n",
    "                                              class_mode=\"categorical\")"
   ],
   "metadata": {
    "collapsed": false
   }
  },
  {
   "cell_type": "markdown",
   "source": [
    "# Initializing model"
   ],
   "metadata": {
    "collapsed": false
   }
  },
  {
   "cell_type": "code",
   "execution_count": null,
   "outputs": [],
   "source": [
    "base_model = DenseNet121(\n",
    "    include_top=False,\n",
    "    weights=\"imagenet\",\n",
    "    input_tensor=Input(shape=(IMAGE_SHAPE+(3,)))\n",
    ")"
   ],
   "metadata": {
    "collapsed": false
   }
  },
  {
   "cell_type": "code",
   "execution_count": null,
   "outputs": [],
   "source": [
    "# Adding weight classes\n",
    "\n",
    "from sklearn.utils import class_weight\n",
    "\n",
    "class_weights = class_weight.compute_class_weight(class_weight='balanced',\n",
    "                                                  classes=np.unique(train_data.classes),\n",
    "                                                  y=train_data.classes)\n",
    "class_weights = dict(enumerate(class_weights))"
   ],
   "metadata": {
    "collapsed": false
   }
  },
  {
   "cell_type": "code",
   "execution_count": null,
   "outputs": [],
   "source": [
    "# Addding head of the model\n",
    "\n",
    "x=base_model.output\n",
    "x=GlobalAveragePooling2D()(x)\n",
    "x=Dense(256, activation='relu')(x)\n",
    "x=Dropout(0.25)(x)\n",
    "prediction=Dense(3, activation='softmax')(x)\n",
    "\n",
    "model = Model(inputs=base_model.input, outputs = prediction)\n",
    "\n",
    "model.summary()"
   ],
   "metadata": {
    "collapsed": false
   }
  },
  {
   "cell_type": "code",
   "execution_count": null,
   "outputs": [],
   "source": [
    "# Compiling model\n",
    "\n",
    "model.compile(optimizer=tf.keras.optimizers.Adam(.5e-5),\n",
    "    loss=\"BinaryCrossentropy\",\n",
    "    metrics=[\"accuracy\"],\n",
    "    )"
   ],
   "metadata": {
    "collapsed": false
   }
  },
  {
   "cell_type": "code",
   "execution_count": null,
   "outputs": [],
   "source": [
    "# Initializing checkpoint class\n",
    "\n",
    "train_steps = train_data.samples // BATCH_SIZE\n",
    "test_steps= test_data.samples // BATCH_SIZE\n",
    "val_steps = val_data.samples // BATCH_SIZE\n",
    "\n",
    "callback = ModelCheckpoint(\"best_model.hdf5\",\n",
    "                           monitor='val_loss',\n",
    "                           verbose=1,\n",
    "                           save_best_only=True,\n",
    "                           mode='auto',\n",
    "                           save_freq=\"epoch\")\n",
    "\n",
    "print(train_steps,  test_steps, val_steps)"
   ],
   "metadata": {
    "collapsed": false
   }
  },
  {
   "cell_type": "code",
   "execution_count": null,
   "outputs": [],
   "source": [
    "# Fitting existing model with freezed trainable layers to our data\n",
    "\n",
    "history = model.fit(\n",
    "    train_data,\n",
    "    steps_per_epoch=train_steps,\n",
    "    epochs = 20,\n",
    "    validation_data=val_data,\n",
    "    validation_steps=val_steps,\n",
    "    callbacks=[callback],\n",
    "    class_weight=class_weights\n",
    ")"
   ],
   "metadata": {
    "collapsed": false
   }
  },
  {
   "cell_type": "markdown",
   "source": [
    "# Accuracy with best weights"
   ],
   "metadata": {
    "collapsed": false
   }
  },
  {
   "cell_type": "code",
   "execution_count": null,
   "outputs": [],
   "source": [
    "model.load_weights(\"best_model.hdf5\") # Loading best weights that occured during all epochs\n",
    "\n",
    "print(\"Accuracy:\", round(model.evaluate(test_data, steps=test_steps, return_dict=True)[\"accuracy\"], 4)*100, \"%\")"
   ],
   "metadata": {
    "collapsed": false
   }
  },
  {
   "cell_type": "markdown",
   "source": [
    "# Plotting model's preformance"
   ],
   "metadata": {
    "collapsed": false
   }
  },
  {
   "cell_type": "code",
   "execution_count": null,
   "outputs": [],
   "source": [
    "loss = history.history['loss']\n",
    "val_loss = history.history['val_loss']\n",
    "\n",
    "accuracy = history.history['accuracy']\n",
    "val_accuracy = history.history['val_accuracy']\n",
    "\n",
    "epochs = range(len(history.history['loss']))\n",
    "\n",
    "plt.plot(epochs, loss, label='training_loss')\n",
    "plt.plot(epochs, val_loss, label='val_loss')\n",
    "plt.axvline(x=np.argmin(history.history[\"val_loss\"]), color=\"green\", label='last epoch with best val_loss')\n",
    "plt.title('Loss')\n",
    "plt.xlabel('Epochs')\n",
    "plt.xticks(ticks=np.arange(0, len(history.history['loss'])), rotation = 60, fontsize=6)\n",
    "plt.legend(loc='center left', bbox_to_anchor=(1, 0.5))\n",
    "\n",
    "plt.figure()\n",
    "plt.plot(epochs, accuracy, label='training_accuracy')\n",
    "plt.plot(epochs, val_accuracy, label='val_accuracy')\n",
    "plt.axvline(x=np.argmin(history.history[\"val_loss\"]), color=\"green\", label='last epoch with best val_loss')\n",
    "plt.title('Accuracy')\n",
    "plt.xlabel('Epochs')\n",
    "plt.xticks(ticks=np.arange(0, len(history.history['loss'])), rotation = 60, fontsize=6)\n",
    "plt.legend(loc='center left', bbox_to_anchor=(1, 0.5))"
   ],
   "metadata": {
    "collapsed": false
   }
  },
  {
   "cell_type": "markdown",
   "source": [
    "# Confusion matrix"
   ],
   "metadata": {
    "collapsed": false
   }
  },
  {
   "cell_type": "code",
   "execution_count": null,
   "outputs": [],
   "source": [
    "y_pred_probs = model.predict_generator(test_data)\n",
    "\n",
    "y_pred_labels = np.argmax(y_pred_probs, axis=1)\n",
    "\n",
    "y_true_labels = test_data.classes\n",
    "\n",
    "cm = confusion_matrix(y_true_labels, y_pred_labels)\n",
    "\n",
    "# Get the class labels from the generator\n",
    "class_labels = list(test_data.class_indices.keys())\n",
    "\n",
    "# Create a heatmap of the confusion matrix\n",
    "sns.heatmap(cm, annot=True, cmap='Blues', fmt='d', xticklabels=class_labels, yticklabels=class_labels)\n",
    "\n",
    "# Set the axis labels\n",
    "plt.xlabel('Predicted')\n",
    "plt.ylabel('True')\n",
    "\n",
    "# Set the title\n",
    "plt.title('Confusion Matrix')\n",
    "\n",
    "# Show the plot\n",
    "plt.show()"
   ],
   "metadata": {
    "collapsed": false
   }
  }
 ],
 "metadata": {
  "kernelspec": {
   "display_name": "Python 3",
   "language": "python",
   "name": "python3"
  },
  "language_info": {
   "codemirror_mode": {
    "name": "ipython",
    "version": 2
   },
   "file_extension": ".py",
   "mimetype": "text/x-python",
   "name": "python",
   "nbconvert_exporter": "python",
   "pygments_lexer": "ipython2",
   "version": "2.7.6"
  }
 },
 "nbformat": 4,
 "nbformat_minor": 0
}
