{
 "cells": [
  {
   "cell_type": "markdown",
   "source": [
    "# Splitting dataset"
   ],
   "metadata": {
    "collapsed": false
   }
  },
  {
   "cell_type": "code",
   "execution_count": null,
   "outputs": [],
   "source": [
    "import splitfolders\n",
    "\n",
    "input_dir = \"C:/Users/Jakub/PycharmProjects/BigDataProjekt/data_classes_n\"\n",
    "output_dir = \"C:/Users/Jakub/PycharmProjects/pluca/data_classes\"\n",
    "\n",
    "splitfolders.ratio(input_dir, output=output_dir,\n",
    "                   seed=42, ratio=(.8, .2),\n",
    "                   group_prefix=None)"
   ],
   "metadata": {
    "collapsed": false
   }
  }
 ],
 "metadata": {
  "kernelspec": {
   "display_name": "Python 3",
   "language": "python",
   "name": "python3"
  },
  "language_info": {
   "codemirror_mode": {
    "name": "ipython",
    "version": 2
   },
   "file_extension": ".py",
   "mimetype": "text/x-python",
   "name": "python",
   "nbconvert_exporter": "python",
   "pygments_lexer": "ipython2",
   "version": "2.7.6"
  }
 },
 "nbformat": 4,
 "nbformat_minor": 0
}
