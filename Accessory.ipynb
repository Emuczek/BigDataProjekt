{
 "cells": [
  {
   "cell_type": "markdown",
   "source": [
    "# Splitting dataset"
   ],
   "metadata": {
    "collapsed": false
   }
  },
  {
   "cell_type": "code",
   "execution_count": 4,
   "outputs": [],
   "source": [
    "import splitfolders\n",
    "\n",
    "input_dir = \"C:/Users/Jakub/PycharmProjects/BigDataProjekt/data_classes_n\"\n",
    "output_dir = \"C:/Users/Jakub/PycharmProjects/BigDataProjekt/data_classes\"\n",
    "\n",
    "splitfolders.ratio(input_dir, output=output_dir,\n",
    "                   seed=42, ratio=(.7, .15, .15),\n",
    "                   group_prefix=None)"
   ],
   "metadata": {
    "collapsed": false,
    "ExecuteTime": {
     "end_time": "2023-05-28T19:55:07.601982600Z",
     "start_time": "2023-05-28T19:54:55.833365400Z"
    }
   }
  }
 ],
 "metadata": {
  "kernelspec": {
   "display_name": "Python 3",
   "language": "python",
   "name": "python3"
  },
  "language_info": {
   "codemirror_mode": {
    "name": "ipython",
    "version": 2
   },
   "file_extension": ".py",
   "mimetype": "text/x-python",
   "name": "python",
   "nbconvert_exporter": "python",
   "pygments_lexer": "ipython2",
   "version": "2.7.6"
  }
 },
 "nbformat": 4,
 "nbformat_minor": 0
}
